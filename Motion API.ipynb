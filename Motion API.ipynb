{
 "cells": [
  {
   "cell_type": "markdown",
   "metadata": {},
   "source": [
    "  ## ALMotion - joint control API\n"
   ]
  },
  {
   "cell_type": "markdown",
   "metadata": {},
   "source": [
    "### ALMotion.getAngles(\"name\", sensorvalue[bool])\n",
    "\n",
    "Gets the angles of  the joints\n",
    "> __Parameters:__\t\n",
    "- __names__ : names the joints, chains, “Body”, “JointActuators”, “Joints” or “Actuators”.\n",
    "- __useSensors__ : If true, sensor angles will be returned.\n",
    "    \n",
    "> __Returns:__\t\n",
    "- __Joint angles__ in __radians__."
   ]
  },
  {
   "cell_type": "markdown",
   "metadata": {},
   "source": [
    "### ALMotion.setAngles(\"name\", anlges[float], fractionMaxspeed[float])\n",
    "\n",
    "Sets the angles of  the joints. This is a non-block call. (절대각도)\n",
    "> __Parameters:__\t\n",
    "- __names__ : The name or names of joints, chains, “Body”, “JointActuators”, “Joints” or “Actuators”.\n",
    "- __angles__ : One or more angles in radians\n",
    "- __fractionMaxspeed__ : The fraction of maximum speed to use\n",
    "– \n"
   ]
  },
  {
   "cell_type": "markdown",
   "metadata": {},
   "source": [
    "### ALMotion.changeAngles(names, changes, fractionMaxSpeed)\n",
    "\n",
    "Changes Angles. This is a non-blocking call. (상대각도)\n",
    ">__Parameters:__\t\n",
    " -  __names__ : The name or names of joints, chains, “Body”, “JointActuators”, “Joints” or “Actuators”.\n",
    " -  __changes__ : One or more changes in radians\n",
    " -  __fractionMaxSpeed__ : The fraction of maximum speed to use\n"
   ]
  },
  {
   "cell_type": "markdown",
   "metadata": {},
   "source": [
    "### ALMotion.closeHand(handName)\n",
    "\n",
    "loses the hand, then cuts motor current to conserve energy. This is a blocking call.\n",
    ">__Parameters:__\t\n",
    " -  __handName__ : The name of the hand. Could be: “RHand” or “LHand”."
   ]
  },
  {
   "cell_type": "markdown",
   "metadata": {},
   "source": [
    "### ALMotion.openHand(handName)\n",
    "\n",
    "Opens the hand, then cuts motor current to conserve energy. This is a blocking call.\n",
    ">__Parameters:__\t\n",
    " -  __handName__ : The name of the hand. Could be: “RHand” or “LHand”."
   ]
  },
  {
   "cell_type": "markdown",
   "metadata": {},
   "source": [
    "### pepper_kinematics. \\__init__"
   ]
  },
  {
   "cell_type": "code",
   "execution_count": 1,
   "metadata": {},
   "outputs": [
    {
     "ename": "ImportError",
     "evalue": "No module named forward_kinematics",
     "output_type": "error",
     "traceback": [
      "\u001b[0;31m---------------------------------------------------------------------------\u001b[0m",
      "\u001b[0;31mImportError\u001b[0m                               Traceback (most recent call last)",
      "\u001b[0;32m<ipython-input-1-d1013861dacf>\u001b[0m in \u001b[0;36m<module>\u001b[0;34m()\u001b[0m\n\u001b[1;32m      3\u001b[0m \u001b[0;32mfrom\u001b[0m \u001b[0mscipy\u001b[0m \u001b[0;32mimport\u001b[0m \u001b[0mlinalg\u001b[0m\u001b[0;34m\u001b[0m\u001b[0m\n\u001b[1;32m      4\u001b[0m \u001b[0;34m\u001b[0m\u001b[0m\n\u001b[0;32m----> 5\u001b[0;31m \u001b[0;32mimport\u001b[0m \u001b[0mforward_kinematics\u001b[0m \u001b[0;32mas\u001b[0m \u001b[0mfk\u001b[0m\u001b[0;34m\u001b[0m\u001b[0m\n\u001b[0m\u001b[1;32m      6\u001b[0m \u001b[0;32mimport\u001b[0m \u001b[0minverse_kinematics\u001b[0m \u001b[0;32mas\u001b[0m \u001b[0mik\u001b[0m\u001b[0;34m\u001b[0m\u001b[0m\n\u001b[1;32m      7\u001b[0m \u001b[0;34m\u001b[0m\u001b[0m\n",
      "\u001b[0;31mImportError\u001b[0m: No module named forward_kinematics"
     ]
    }
   ],
   "source": [
    "import numpy as np\n",
    "import scipy as sp\n",
    "from scipy import linalg\n",
    "\n",
    "import forward_kinematics as fk\n",
    "import inverse_kinematics as ik\n",
    "\n",
    "right_arm_tags = [\"RShoulderPitch\", \"RShoulderRoll\", \"RElbowYaw\", \"RElbowRoll\", \"RWristYaw\"]\n",
    "right_arm_initial_pose = [1.0, -0.2, 1.57-0.2, 1.0, -1.57]\n",
    "right_arm_work_pose = [0.8, -0.2, 1.57-0.2, 0.9, -1.57]\n",
    "\n",
    "_inverse_case = [1.0, -1.0, -1.0, -1.0, -1.0]\n",
    "\n",
    "left_arm_tags = [\"LShoulderPitch\", \"LShoulderRoll\", \"LElbowYaw\", \"LElbowRoll\", \"LWristYaw\"]\n",
    "left_arm_initial_pose = [p[0] * p[1] for p in zip(right_arm_initial_pose, _inverse_case)]\n",
    "left_arm_work_pose = [p[0] * p[1] for p in zip(right_arm_work_pose, _inverse_case)]\n",
    "\n",
    "    \n",
    "def right_arm_get_position(angles):\n",
    "    \"\"\"\n",
    "    Just calculate the position when joints on the pepper's right arm is in given positions\n",
    "\n",
    "    Args:\n",
    "      angles : Angles of right arm joints (list of 5 double values. unit is radian)\n",
    "    \n",
    "    Returns:\n",
    "      A tuple of two arrays (position, orientation). orientation is presented as Matrix. Unit = meter.\n",
    "      \n",
    "      (position, orientation) = (np.array([position_x, position_y, position_z]), np.array([[R00, R01, R02], [R10, R11, R12], [R20, R21, R22]]))\n",
    "    \"\"\"\n",
    "    return fk.calc_fk_and_jacob(angles, jacob=False, right=True) # position, orientation\n",
    "\n",
    "def left_arm_get_position(angles):\n",
    "    \"\"\"\n",
    "    Just calculate the position when joints on the pepper's left arm is in given positions\n",
    "\n",
    "    Args:\n",
    "      angles : Angles of left arm joints (list of 5 double values. unit is radian)\n",
    "    \n",
    "    Returns:\n",
    "      A tuple of two arrays (position, orientation). orientation is presented as Matrix. Unit = meter.\n",
    "      \n",
    "      (position, orientation) = (np.array([position_x, position_y, position_z]), np.array([[R00, R01, R02], [R10, R11, R12], [R20, R21, R22]]))\n",
    "    \"\"\"\n",
    "    return fk.calc_fk_and_jacob(angles, jacob=False, right=False)\n",
    "\n",
    "def right_arm_set_position(angles, target_pos, target_ori, epsilon=0.0001):\n",
    "    \"\"\"\n",
    "    Just calculate the joint angles when the Pepper's right hand position is in the given position\n",
    "    \n",
    "    Args:\n",
    "      angles : Use the initial position of calculation. Unit = radian\n",
    "      target_pos : List. [Px, Py, Pz]. Unit is meter.\n",
    "      target_ori : np.array([[R00,R01,R02],[R10,R11,R12],[R20,R21,R22]])\n",
    "      epsilon    : The threshold. If the distance between calculation result and target_position is lower than epsilon, this returns value.\n",
    "    \n",
    "    Returns:\n",
    "      A list of joint angles (Unit is radian). If calculation fails, return None.\n",
    "    \"\"\"\n",
    "    return ik.calc_inv_pos(angles, target_pos, target_ori, epsilon, right=True)\n",
    "\n",
    "def left_arm_set_position(angles, target_pos, target_ori, epsilon = 0.0001):\n",
    "    return ik.calc_inv_pos(angles, target_pos, target_ori, epsilon, right=False)\n",
    "\n",
    "\n"
   ]
  },
  {
   "cell_type": "markdown",
   "metadata": {},
   "source": [
    "### forward_kinematics.py"
   ]
  },
  {
   "cell_type": "code",
   "execution_count": null,
   "metadata": {},
   "outputs": [],
   "source": [
    "import math\n",
    "import numpy as np\n",
    "import scipy as sp\n",
    "from scipy import linalg\n",
    "\n",
    "# (Unit metter)\n",
    "L1 = 0.14974 # ShoulderOffsetY (Torso to shoulder y)\n",
    "L2 = 0.015   # ElbowOffsetY (Shoulder to Elbow y)\n",
    "L3 = 0.1812  # UpperArmLength (Shoulder to Elobw x)\n",
    "L4 = 0       # Elbow has two joints (2-DOF)\n",
    "L5 = 0.150   # LowerArmLength (Elbow to Hand)\n",
    "L6 = 0.0695  # HandOffsetX (Hand to finger)\n",
    "L7 = 0.0303  # HandOffsetZ (finger to fingertip)\n",
    "\n",
    "p = np.array([0,0,0,1])\n",
    "v0 = np.array([[1],[0],[0],[0]])\n",
    "v1 = np.array([[0],[1],[0],[0]])\n",
    "v2 = np.array([[0],[0],[1],[0]])\n",
    "\n",
    "\n",
    "def transX(th, x, y, z): # roll\n",
    "    s = math.sin(th)\n",
    "    c = math.cos(th)\n",
    "    return np.array([[1, 0, 0, x], [0, c, -s, y], [0, s, c, z], [0, 0, 0, 1]])\n",
    "\n",
    "def transY(th, x, y, z): # pitch \n",
    "    s = math.sin(th)\n",
    "    c = math.cos(th)\n",
    "    return np.array([[c, 0, -s, x], [0, 1, 0, y], [s, 0, c, z], [0, 0, 0, 1]])\n",
    "\n",
    "def transZ(th, x, y, z): # yaw\n",
    "    s = math.sin(th)\n",
    "    c = math.cos(th)\n",
    "    return np.array([[c, -s, 0, x], [s, c, 0, y], [0, 0, 1, z], [0, 0, 0, 1]])"
   ]
  },
  {
   "cell_type": "code",
   "execution_count": 3,
   "metadata": {},
   "outputs": [],
   "source": [
    "def calc_fk_and_jacob(angles, jacob=True, right=True):\n",
    "# angles = \"LShoulderPitch\", \"LShoulderRoll\", \"LElbowYaw\", \"LElbowRoll\", \"LWristYaw\"\n",
    "    \n",
    "    _L1_ = -L1 if right else L1\n",
    "    _L2_ = -L2 if right else L2\n",
    "\n",
    "    T1 = transY(-angles[0], 0, _L1_, 0)          # y(pitch) Axis rotaion \"LShoulderPitch\"\n",
    "    T2 = transZ(angles[1], 0, 0, 0)              # \"LSholderRoll\"\n",
    "    Td = transY(9.0/180.0*math.pi, L3, _L2_, 0)  # Offset of elbew 9º and sholuder_offset & UpperArm\n",
    "    T3 = transX(angles[2], 0, 0, 0)              # \"LElbowYaw\"\n",
    "    T4 = transZ(angles[3], 0, 0, 0)              # \"LElbowRoll\"\n",
    "    T5 = transX(angles[4], L5, 0, 0)             # \"LWristYaw\" and LowerArmLength (Elbow to Hand)\n",
    "    T6 = transZ(0, L6, 0, -L7)                   # HandOffsetX (Hand to finger) and HandOffsetZ (finger to fingertip)\n",
    "    \n",
    "    T1Abs = T1\n",
    "    T2Abs = T1Abs.dot(T2)\n",
    "    TdAbs = T2Abs.dot(Td)\n",
    "    T3Abs = TdAbs.dot(T3)\n",
    "    T4Abs = T3Abs.dot(T4)\n",
    "    T5Abs = T4Abs.dot(T5)\n",
    "    T6Abs = T5Abs.dot(T6) # End-effector's Transformation 4 by 4 matrix\n",
    "\n",
    "    pos = T6Abs.dot(p) # x, y, z 의 translation의 값과 1로 -> [Px, Py, Pz, 1]\n",
    "    ori = T6Abs[0:3,0:3] # 3 x 3 의 rotaion matrix\n",
    "\n",
    "    if not jacob:\n",
    "        return pos, ori\n",
    "\n",
    "    OfstT1 = L1 * T1Abs.dot(v1) # \n",
    "    OfstTd = TdAbs.dot(np.array([[L3], [L2], [0], [0]]))\n",
    "    OfstT5 = L5 * T5Abs.dot(v0)\n",
    "    OfstT6 = T5Abs.dot(np.array([[L6], [0], [-L7], [0]]))\n",
    "\n",
    "    vec6 = OfstT6\n",
    "    vec5 = vec6 + OfstT5\n",
    "    vec4 = vec5\n",
    "    vec3 = vec4\n",
    "    vecd = vec3 + OfstTd\n",
    "    vec2 = vecd\n",
    "    vec1 = vec2 + OfstT1\n",
    "    \n",
    "    j1 = T1Abs.dot(v1)\n",
    "    j2 = T2Abs.dot(v2)\n",
    "    jd = TdAbs.dot(v1)\n",
    "    j3 = T3Abs.dot(v0)\n",
    "    j4 = T4Abs.dot(v2)\n",
    "    j5 = T5Abs.dot(v0)\n",
    "    \n",
    "    J1 = cross(j1, vec1)\n",
    "    J2 = cross(j2, vec2)\n",
    "    J3 = cross(j3, vec3)\n",
    "    J4 = cross(j4, vec4)\n",
    "    J5 = cross(j5, vec5)\n",
    "    \n",
    "    J = np.c_[J1, J2, J3, J4, J5]\n",
    "    return pos, ori, J\n",
    "\n",
    "\n",
    "def cross(j, v):\n",
    "    t0 = j[1][0] * v[2][0] - j[2][0] * v[1][0]\n",
    "    t1 = j[2][0] * v[0][0] - j[0][0] * v[2][0]\n",
    "    t2 = j[0][0] * v[1][0] - j[1][0] * v[0][0]\n",
    "    return np.array([[t0], [t1], [t2]])\n",
    "        "
   ]
  },
  {
   "cell_type": "markdown",
   "metadata": {},
   "source": [
    "### inverse_kinematics.py"
   ]
  },
  {
   "cell_type": "code",
   "execution_count": null,
   "metadata": {},
   "outputs": [],
   "source": [
    "import math\n",
    "import numpy as np\n",
    "import scipy as sp\n",
    "from scipy import linalg\n",
    "\n",
    "import forward_kinematics as fk\n",
    "\n",
    "def calc_inv_pos(angles, target_pos, target_ori, epsilon, right=True):\n",
    "    p  = np.array([0,0,0,1])\n",
    "    angs = np.array([a for a in angles])\n",
    "    sum_old = 100000\n",
    "    while True:\n",
    "        pos, ori, j = fk.calc_fk_and_jacob(angs, jacob=True, right=right)\n",
    "        J = _calc_invJ(j)\n",
    "        delta_pos = np.matrix((target_pos-pos)[0:3]).transpose()\n",
    "        v = (J * delta_pos).transpose()\n",
    "        angs = np.squeeze(np.asarray(v)) + angs\n",
    "        \n",
    "        sum = 0\n",
    "        for d in delta_pos:\n",
    "            sum = sum + math.fabs(d)\n",
    "        #sum = np.sum(delta_pos)\n",
    "        if sum < epsilon:\n",
    "            break\n",
    "        if sum > sum_old:\n",
    "            print '# set_position error : Distance can not converged.'\n",
    "            return None\n",
    "        sum_old = sum\n",
    "    return angs\n",
    "\n",
    "def _calc_invJ(J, epsilon = 0.01):\n",
    "    u, sigma, v = np.linalg.svd(J, full_matrices=0)\n",
    "    sigma_ = [1/s if s > epsilon else 0 for s in sigma]\n",
    "    rank = np.shape(J)[0]\n",
    "    return np.matrix(v.transpose()) * np.matrix(linalg.diagsvd(sigma_, rank, rank)) * np.matrix(u.transpose())\n"
   ]
  }
 ],
 "metadata": {
  "kernelspec": {
   "display_name": "Python 2",
   "language": "python",
   "name": "python2"
  },
  "language_info": {
   "codemirror_mode": {
    "name": "ipython",
    "version": 2
   },
   "file_extension": ".py",
   "mimetype": "text/x-python",
   "name": "python",
   "nbconvert_exporter": "python",
   "pygments_lexer": "ipython2",
   "version": "2.7.15"
  }
 },
 "nbformat": 4,
 "nbformat_minor": 2
}
