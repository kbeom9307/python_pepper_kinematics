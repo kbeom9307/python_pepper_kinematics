{
 "cells": [
  {
   "cell_type": "markdown",
   "metadata": {},
   "source": [
    "### Forward Kinematics and Inverse Kinematics\n",
    "&nbsp; 기준 좌표계의 변환을 위한 방법으로, 일번적으로 사람들은 $x,y,z$ 의 직교 좌표계를 통한 로봇의 각 관절의 움직임을 파악하기 원하지만, 로봇은 $r,\\theta,\\phi$ 로 이루어진 극좌표계로 관절들의 값이 표현이 됩니다. 따라서, 기준좌표계의 변환이 필요하고 이과정에서 정기구학과 역기구학에 대한 지식과, Jacobian에 대한 학습이 필요합니다.\n",
    "\n",
    "> Forward Kinematics (정기구학,FK)  : Joint → Task &nbsp;&nbsp;&nbsp;    $x = f(q)$  \n",
    "> Inverse Kinematics (역기구학,IK) &nbsp;&nbsp;&nbsp;: Task  → Joint  &nbsp;&nbsp;&nbsp;  $q = f^{-1} (x)$\n",
    "\n",
    "일반적으로, joint 값을 가지고, $x,y,z$의 값을 구하는것은 쉽지만,  \n",
    "반대로, $x,y,z$값을 가지고, joint 값을 구하는 것은 어렵습니다.  \n",
    "  \n",
    ">**Fowrard kinematics**   \n",
    "> ex) $x = L_{1}(c_{1}c_{4}c_{5}c_{6}-c_{1}s_{4}s_{6}+s_{1}s_{5}s_{6})+L_{2}(...)+ ... $       \n",
    "> &nbsp;&nbsp;&nbsp;&nbsp;&nbsp;&nbsp; $y = L_{1}(...)+...$  \n",
    "> &nbsp;&nbsp;&nbsp;&nbsp;&nbsp;&nbsp; $z = L_{1}(...)+...$\n",
    "- $cos\\theta_{i}, sin\\theta_{i}$에 값을 넣어서 $x,y,z$의 값을 구하는 것은 쉽지만,  \n",
    "$x,y,z$에 값을 넣어서, $cos\\theta_{i}, sin\\theta_{i}$ 즉, 각각의 c1,c2,... s1,s2,... 로 정리하는 것은 어렵겠죠?\n",
    "\n",
    "따라서\n",
    "\n",
    "    \n",
    "      \n",
    "\n",
    "### Jacobian"
   ]
  },
  {
   "cell_type": "markdown",
   "metadata": {},
   "source": [
    "\n"
   ]
  },
  {
   "cell_type": "code",
   "execution_count": null,
   "metadata": {},
   "outputs": [],
   "source": []
  }
 ],
 "metadata": {
  "kernelspec": {
   "display_name": "Python 2",
   "language": "python",
   "name": "python2"
  },
  "language_info": {
   "codemirror_mode": {
    "name": "ipython",
    "version": 2
   },
   "file_extension": ".py",
   "mimetype": "text/x-python",
   "name": "python",
   "nbconvert_exporter": "python",
   "pygments_lexer": "ipython2",
   "version": "2.7.15"
  }
 },
 "nbformat": 4,
 "nbformat_minor": 2
}
