{
 "cells": [
  {
   "cell_type": "code",
   "execution_count": null,
   "metadata": {},
   "outputs": [],
   "source": [
    "import qi #pepper와의 연결 및 모듈의 proxy(클라이언트와 서버 사이에 데이터를 전송하는)관리.\n",
    "import argparse\n",
    "import sys\n",
    "import motion\n",
    "import almath\n",
    "import math\n",
    "from matplotlib import pyplot as plt\n",
    "import time\n",
    "import numpy as np\n",
    "import naoqi as n\n",
    "import pepper_kinematics as pk\n",
    "import tkinter as tk\n",
    "import math\n",
    "import numpy as np\n",
    "import drawRobotics as dR\n",
    "\n",
    "right_arm_work_pose = [0.8, -0.2, 1.57-0.2, 0.9, -1.57]\n",
    "\n",
    "current_angles = []\n",
    "target_angles = [0.8, -0.2, 1.57-0.2, 0.9, -1.57]\n",
    "\n",
    "for i in range(len(pk.left_arm_tags)): # ALMotion.getanlges arg - str 로 변환\n",
    "    current_angles.append(right_arm_work_pose[i])\n",
    "    \n",
    "current_position, current_orientation = pk.left_arm_get_position(current_angles)\n",
    "\n",
    "target_position = current_position\n",
    "target_orientation = current_orientation # This is not supported yet\n"
   ]
  }
 ],
 "metadata": {
  "kernelspec": {
   "display_name": "Python 2",
   "language": "python",
   "name": "python2"
  },
  "language_info": {
   "codemirror_mode": {
    "name": "ipython",
    "version": 2
   },
   "file_extension": ".py",
   "mimetype": "text/x-python",
   "name": "python",
   "nbconvert_exporter": "python",
   "pygments_lexer": "ipython2",
   "version": "2.7.15"
  }
 },
 "nbformat": 4,
 "nbformat_minor": 2
}
