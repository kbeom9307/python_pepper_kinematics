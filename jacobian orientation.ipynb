{
 "cells": [
  {
   "cell_type": "markdown",
   "metadata": {},
   "source": [
    "## Inverse Kinematics with end-effector's orientation\n",
    "\n",
    "- 매니퓰레이터의 __조인트 수가 n__ 이고 작업 공간(Task space)에 있는 __말단부의 자유도가 m__ 인 경우, 자코비안은 $(m\\times n)$ 행렬이 된다. 기존의 package의 경우, 말단의 자유도를 end-effector의 orientation을 배제하고, $x, y, z$의 translation만 고려했기 때문에 3으로 보았다. 따라서 pepper $(3 \\times 5)$ 의 자코비안 행렬을 가졌다. 하지만 end-effector 의 좀더 정밀한 제어를 위해서 jacobian의 말단부의 자유도를 pepper arm의 자유도 만큼으로 늘려주어야 할것 으로 보인다.\n",
    "open manipulator의 자유도의 경우, joint들의 개수와 동일하기 때문에, pepper의 arm의 joint의 개수인 5-DOF로 놓고 풀어야 할것으로 보인다.\n"
   ]
  },
  {
   "cell_type": "markdown",
   "metadata": {},
   "source": [
    "또한 말단장치가 목표점에 도달하기 위하여 이동해야 할 변화량을 계산할 때, 위치에 대한 변화량은\n",
    "단순히 목표 위치에서 현재 위치를 빼는 것으로 계산할 수 있다. 하지만 말단장치의 오일러각도\n",
    "에 대한 변화량은 목표 자세에서 현재 자세를 빼는 것으로 계산할 수 없다."
   ]
  }
 ],
 "metadata": {
  "kernelspec": {
   "display_name": "Python 2",
   "language": "python",
   "name": "python2"
  },
  "language_info": {
   "codemirror_mode": {
    "name": "ipython",
    "version": 2
   },
   "file_extension": ".py",
   "mimetype": "text/x-python",
   "name": "python",
   "nbconvert_exporter": "python",
   "pygments_lexer": "ipython2",
   "version": "2.7.15"
  }
 },
 "nbformat": 4,
 "nbformat_minor": 2
}
