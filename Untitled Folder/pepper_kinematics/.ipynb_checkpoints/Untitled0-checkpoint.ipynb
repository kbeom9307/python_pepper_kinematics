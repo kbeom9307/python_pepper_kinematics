{
 "metadata": {
  "name": "",
  "signature": "sha256:83cddf82e78d046242d92f237e8a7eb5bb45efdaa3deaabd7e8305c43d1c6da1"
 },
 "nbformat": 3,
 "nbformat_minor": 0,
 "worksheets": []
}