{
 "cells": [
  {
   "cell_type": "markdown",
   "metadata": {},
   "source": [
    "# Forward Kinematics and Inverse Kinematics\n",
    "\n",
    "&nbsp; 기준 좌표계의 변환을 위한 방법으로, 일번적으로 사람들은 $x,y,z$ 의 직교 좌표계를 통한 로봇의 각 관절의 움직임을 파악하기 원하지만, 로봇은 $r,\\theta,\\phi$ 로 이루어진 극좌표계로 관절들의 값이 표현이 됩니다. 따라서, 기준좌표계의 변환이 필요하고 이과정에서 정기구학과 역기구학에 대한 지식과, Jacobian에 대한 학습이 필요합니다.\n",
    "\n",
    "> Forward Kinematics (정기구학,FK)  : Joint → Task &nbsp;&nbsp;&nbsp;    $x = f(q)$  \n",
    "> Inverse Kinematics (역기구학,IK) &nbsp;&nbsp;&nbsp;: Task  → Joint  &nbsp;&nbsp;&nbsp;  $q = f^{-1} (x)$\n",
    "\n",
    "일반적으로, joint 값을 가지고, $x,y,z$의 값을 구하는것은 쉽지만,  \n",
    "반대로, $x,y,z$값을 가지고, joint 값을 구하는 것은 어렵습니다.  \n",
    "  \n",
    ">**Fowrard kinematics**   \n",
    "> ex) $x = L_{1}(c_{1}c_{4}c_{5}c_{6}-c_{1}s_{4}s_{6}+s_{1}s_{5}s_{6})+L_{2}(...)+ ... $       \n",
    "> &nbsp;&nbsp;&nbsp;&nbsp;&nbsp;&nbsp; $y = L_{1}(...)+...$  \n",
    "> &nbsp;&nbsp;&nbsp;&nbsp;&nbsp;&nbsp; $z = L_{1}(...)+...$\n",
    "- $cos\\theta_{i}, sin\\theta_{i}$에 값을 넣어서 $x,y,z$의 값을 구하는 것은 쉽지만,  \n",
    "$x,y,z$에 값을 넣어서, $cos\\theta_{i}, sin\\theta_{i}$ 즉, 각각의 c1,c2,... 로 정리하는 것은 어렵겠죠?\n",
    "\n",
    "따라서, Inverse kinematics에 대해 일반적으로 정리하는 것은 어렵습니다. \n"
   ]
  },
  {
   "cell_type": "markdown",
   "metadata": {},
   "source": [
    "# Jacobian\n",
    "\n",
    "&nbsp; 이렇게 다변수로 이루어진 함수를 변수에 대해 정리하기 위해서 우리는 미분을 통해 선형 근사(linear approximation)하여 각 식에 대해 정리해야 합니다. 그리고 x와 y가 다변수, 즉 $x=(x_{1},x_{2},x_{3},...), y=(y_{1},y_{2},y_{3},...)$ 와 같은 경우에는 미분값이 scalar가 아니라 행렬형태로 나오게 되는데요. 이때 나오는 다변수에 의한 편미분의 행렬이 Jacobian 입니다.\n",
    "> ex) 페퍼의 경우,\n",
    "$$ P(x,y,z) = \\left[\\begin{array}{rrr} \n",
    "f_1(q_{1},q_{2},q_{3},q_{4},q_{5})\\\\\n",
    "f_2(q_{1},q_{2},q_{3},q_{4},q_{5})\\\\\n",
    "f_3(q_{1},q_{2},q_{3},q_{4},q_{5})\n",
    "\\end{array}\\right] $$                          \n",
    "\n",
    ">이를 미분하여, 다음과 같은 식을 얻어낸다.\n",
    "\n",
    "\n",
    "> $$ {dP(x,y,z)} = \\left[\\begin{array}{rrr} \n",
    "\\frac{\\partial x}{\\partial q_{1}}&\\frac{\\partial x}{\\partial q_{2}}&\\frac{\\partial x}{\\partial q_{3}}&\\frac{\\partial x}{\\partial q_{4}}&\\frac{\\partial x}{\\partial q_{5}}\\\\\n",
    "\\frac{\\partial y}{\\partial q_{1}}&\\frac{\\partial y}{\\partial q_{2}}&\\frac{\\partial y}{\\partial q_{3}}&\\frac{\\partial y}{\\partial q_{4}}&\\frac{\\partial y}{\\partial q_{5}}\\\\\n",
    "\\frac{\\partial z}{\\partial q_{1}}&\\frac{\\partial z}{\\partial q_{2}}&\\frac{\\partial z}{\\partial q_{3}}&\\frac{\\partial z}{\\partial q_{4}}&\\frac{\\partial z}{\\partial q_{5}}\n",
    "\\end{array}\\right] \\cdot \\left[\\begin{array}{rrr}\n",
    "dq_{1}\\\\\n",
    "dq_{2}\\\\\n",
    "dq_{3}\\\\\n",
    "dq_{4}\\\\\n",
    "dq_{5}\n",
    "\\end{array}\\right] $$\n",
    "$$ \\left[\\begin{array}{rrr} \n",
    "\\frac{\\partial x}{\\partial q_{1}}&\\frac{\\partial x}{\\partial q_{2}}&\\frac{\\partial x}{\\partial q_{3}}&\\frac{\\partial x}{\\partial q_{4}}&\\frac{\\partial x}{\\partial q_{5}}\\\\\n",
    "\\frac{\\partial y}{\\partial q_{1}}&\\frac{\\partial y}{\\partial q_{2}}&\\frac{\\partial y}{\\partial q_{3}}&\\frac{\\partial y}{\\partial q_{4}}&\\frac{\\partial y}{\\partial q_{5}}\\\\\n",
    "\\frac{\\partial z}{\\partial q_{1}}&\\frac{\\partial z}{\\partial q_{2}}&\\frac{\\partial z}{\\partial q_{3}}&\\frac{\\partial z}{\\partial q_{4}}&\\frac{\\partial z}{\\partial q_{5}}\n",
    "\\end{array}\\right] = J(jacobian) $$\n",
    "\n",
    ">따라서, 식은 다음과같이 $$ dP(x,y,z) = Jdq $$\n",
    "$$ dq=J^{-1}dx $$\n",
    "$$ q_{2}=q_{1}+J^{-1}dx $$  \n",
    "자코비안의 역행렬로 x,y값의 변화량을 통해 q(joint value)를 구할수 있게 됩니다."
   ]
  },
  {
   "cell_type": "code",
   "execution_count": null,
   "metadata": {},
   "outputs": [],
   "source": [
    "OfstT1 = L1 * T1Abs.dot(v1) \n",
    "OfstTd = TdAbs.dot(np.array([[L3], [L2], [0], [0]]))\n",
    "OfstT5 = L5 * T5Abs.dot(v0)\n",
    "OfstT6 = T5Abs.dot(np.array([[L6], [0], [-L7], [0]]))"
   ]
  },
  {
   "cell_type": "markdown",
   "metadata": {},
   "source": [
    "``OfstT1 = L1 * T1Abs.dot(v1)`` $ = L_{1} \\cdot \\vec{^{0}Y_{1}} $  \n",
    "``OfstTd = TdAbs.dot(np.array([[L3], [L2], [0], [0]]))`` $ = L_{3} \\cdot \\vec{^{0}X_{d}} + L_{2} \\cdot \\vec{^{0}Y_{d}} $  \n",
    "``OfstT5 = L5 * T5Abs.dot(v0)`` $ = L_{5} \\cdot \\vec{^{0}X_{5}} $  \n",
    "``OfstT6 = T5Abs.dot(np.array([[L6], [0], [-L7], [0]]))`` $ = L_{6} \\cdot \\vec{^{0}X_{5}} - L_{7} \\cdot \\vec{^{0}Z_{5}} $   "
   ]
  },
  {
   "cell_type": "code",
   "execution_count": null,
   "metadata": {},
   "outputs": [],
   "source": [
    "vec6 = OfstT6\n",
    "vec5 = vec6 + OfstT5\n",
    "vec4 = vec5\n",
    "vec3 = vec4\n",
    "vecd = vec3 + OfstTd\n",
    "vec2 = vecd\n",
    "vec1 = vec2 + OfstT1"
   ]
  },
  {
   "cell_type": "markdown",
   "metadata": {},
   "source": [
    "``vec6 = OfstT6`` $ = L_{6} \\cdot \\vec{^{0}X_{5}} - L_{7} \\cdot \\vec{^{0}Z_{5}} $  \n",
    "``vec5 = vec6 + OfstT5`` $ = L_{6} \\cdot \\vec{^{0}X_{5}} - L_{7} \\cdot \\vec{^{0}Z_{5}}+L_{5} \\cdot \\vec{^{0}X_{5}} $  \n",
    "``vec4 = vec5`` $ = L_{6} \\cdot \\vec{^{0}X_{5}} - L_{7} \\cdot \\vec{^{0}Z_{5}}+L_{5} \\cdot \\vec{^{0}X_{5}} $  \n",
    "``vec3 = vec4``$ = L_{6} \\cdot \\vec{^{0}X_{5}} - L_{7} \\cdot \\vec{^{0}Z_{5}}+L_{5} \\cdot \\vec{^{0}X_{5}} $  \n",
    "``vecd = vec3 + OfstTd``$ = L_{6} \\cdot \\vec{^{0}X_{5}} - L_{7} \\cdot \\vec{^{0}Z_{5}}+L_{5} \\cdot \\vec{^{0}X_{5}} + L_{3} \\cdot \\vec{^{0}X_{d}} + L_{2} \\cdot \\vec{^{0}Y_{d}} $  \n",
    "``vec2 = vecd`` $ = L_{6} \\cdot \\vec{^{0}X_{5}} - L_{7} \\cdot \\vec{^{0}Z_{5}}+L_{5} \\cdot \\vec{^{0}X_{5}} + L_{3} \\cdot \\vec{^{0}X_{d}} + L_{2} \\cdot \\vec{^{0}Y_{d}} $  \n",
    "``vec1 = vec2 + OfstT1``$  = L_{6} \\cdot \\vec{^{0}X_{5}} - L_{7} \\cdot \\vec{^{0}Z_{5}}+L_{5} \\cdot \\vec{^{0}X_{5}} + L_{3} \\cdot \\vec{^{0}X_{d}} + L_{2} \\cdot \\vec{^{0}Y_{d}} + L_{1} \\cdot \\vec{^{0}Y_{1}} $"
   ]
  },
  {
   "cell_type": "code",
   "execution_count": null,
   "metadata": {},
   "outputs": [],
   "source": [
    "    \n",
    "    j1 = T1Abs.dot(v1)\n",
    "    j2 = T2Abs.dot(v2)\n",
    "    jd = TdAbs.dot(v1)\n",
    "    j3 = T3Abs.dot(v0)\n",
    "    j4 = T4Abs.dot(v2)\n",
    "    j5 = T5Abs.dot(v0)\n",
    "    \n",
    "    J1 = cross(j1, vec1)\n",
    "    J2 = cross(j2, vec2)\n",
    "    J3 = cross(j3, vec3)\n",
    "    J4 = cross(j4, vec4)\n",
    "    J5 = cross(j5, vec5)\n",
    "    \n",
    "    J = np.c_[J1, J2, J3, J4, J5]\n",
    "    return pos, ori, J\n",
    "\n",
    "\n",
    "def cross(j, v):\n",
    "    t0 = j[1][0] * v[2][0] - j[2][0] * v[1][0]\n",
    "    t1 = j[2][0] * v[0][0] - j[0][0] * v[2][0]\n",
    "    t2 = j[0][0] * v[1][0] - j[1][0] * v[0][0]\n",
    "    return np.array([[t0], [t1], [t2]])"
   ]
  },
  {
   "cell_type": "code",
   "execution_count": 1,
   "metadata": {},
   "outputs": [
    {
     "ename": "NameError",
     "evalue": "name 'T1Abs' is not defined",
     "output_type": "error",
     "traceback": [
      "\u001b[0;31m-----------------------------------------------------------------------\u001b[0m",
      "\u001b[0;31mNameError\u001b[0m                             Traceback (most recent call last)",
      "\u001b[0;32m<ipython-input-1-80d3cdcee0c1>\u001b[0m in \u001b[0;36m<module>\u001b[0;34m()\u001b[0m\n\u001b[0;32m----> 1\u001b[0;31m \u001b[0mT1Abs\u001b[0m\u001b[0;34m\u001b[0m\u001b[0m\n\u001b[0m",
      "\u001b[0;31mNameError\u001b[0m: name 'T1Abs' is not defined"
     ]
    }
   ],
   "source": [
    "    T1Abs"
   ]
  },
  {
   "cell_type": "markdown",
   "metadata": {},
   "source": [
    "> 각 변수들의 벡터에대해 생각해보면 J는 회전의 축에 위치해하며, 해당 vec의 경우 각관절에서 end-effector 까지의 벡터를 나타내고 있습니다. 결국 이를 외적하게되면 그에 수직한 성분이 발생하여 각각 roll, pitch, yaw 관절에서 관절의 회전량에 따른 좌표의 이동을 나타낼 수 있슾니다.    \n",
    "<참고자료> - [Google Drive](https://docs.google.com/presentation/d/1DVAoHssWSZgePHPcpbj0F2dEsFhKPrZodVH-PJ8b640/edit#slide=id.g57c730d35c_0_57)"
   ]
  },
  {
   "cell_type": "markdown",
   "metadata": {},
   "source": [
    "## 역기구학 Inverse kinematics \n",
    "\n",
    "- Analytic Approach (해석적 방법) : 로봇의 각도와 end-effector의 관계를 직접유도 $ \\Rightarrow $ 구조 복잡, 여유자유도 존재시 어려움.  \n",
    "\n",
    "- __Numeric Approach (수치적 방법)__ : 관절의 각속도와 end-effector 선속도 사이의 상관관계, __Jacobian (J)__, $ \\Rightarrow $ 특정 위치에서 자코비안 행렬의 랭크(Rank)가 작업의 차원보다 낮아져 역행렬이 존재 x $ \\rightarrow $ __Singularity(특이점)__\n",
    "\n",
    "\n",
    "- Jacobian이 어떤건지 알았으니. 이제 이 Jacobian의 역행렬을 구해서 dp와 곱해서 dq 값을 얻어 내야겠지요.\n",
    "하지만 pepper의 arm의 joint가 5개이며 또, 얻고자 하는 end-effector의 제어의 자유도(m) x,y,z 3가지 이기때문에 jacobian의 shape은 (3$\\times$5)가 됩니다. 일반적으로 역행렬을 구하기 위해서는 정방행렬 ($m\\times m$)의 형태를 가져야 하는데, 우리의 자코비안은 정방행렬이 아니기 때문에 일반 역행렬 대신 의사역행렬(pseudo inverse)을 구해야 합니다. 또, 많이 특이값을 구하는데 많이 사용되는 방법이 SVD(Singularity Value Decomposition)입니다.\n",
    " \n",
    "\n",
    "특이값 분해란 : 임의의 $ m\\times n $ 차원의 행렬(A)에 대해서 다음과 같이 행렬을 분해할 수 있다는 행렬 분해의 방법중 하나이다.\n",
    "$ A = U\\Sigma V^{T}$\n",
    "\n",
    "$ A shape : m \\times n  $: rectanglar matrix (선형변환)  \n",
    "$ U shpae : m \\times m  $: orthogonal matrix (선형변환 후의 직교하는 $vector \\vec{A_{x}},\\vec{A_{y}}$에 대하여 각각 크기를 1로 정규화한 벡터)  \n",
    "$ \\Sigma shpae : m \\times n $: diagonal matrix (벡터의 singular value, scaling factor)     \n",
    "$ V shape : n \\times n $: orthogonal matrix(선형변환 전으 지기교하는 vector $\\vec{X}, \\vec{Y} $\n",
    "\n",
    "### Orthogonal matrix\n",
    ">If U = orthogonal $ \\rightarrow  U^{-1} = U^{T} $     \n",
    "### Diagonal matrix\n",
    "> 대각성분을 제외한 나머지 원소값은 모두 0  \n",
    "> ex)  $$\\left[\\begin{array}{rrr} \n",
    "\\sigma_{1}&0&0\\\\\n",
    "0&\\sigma_{2}&0\\\\\n",
    "0&0&\\sigma_{3}\n",
    "\\end{array}\\right]$$\n",
    "\n",
    "자코비안의 의사역행렬(pseudo inverse)를 구하면,  \n",
    "> $ J $ $= U \\Sigma V^{T} $  \n",
    "&nbsp;&nbsp;&nbsp;&nbsp;$= \\Sigma_{i=1}^{r}\\sigma_{i}u_{i}{v_{i}}^{T} $  \n",
    "\n",
    "\n",
    "> $ J^{*} $ $= V \\Sigma U^{T} $  \n",
    "&nbsp;&nbsp;&nbsp;&nbsp;&nbsp;&nbsp;$= \\Sigma_{i=1}^{r} \\frac{1} {\\sigma_{i}}v_{i}{u_{i}}^{T} $"
   ]
  },
  {
   "cell_type": "code",
   "execution_count": 2,
   "metadata": {},
   "outputs": [
    {
     "ename": "ImportError",
     "evalue": "No module named forward_kinematics",
     "output_type": "error",
     "traceback": [
      "\u001b[0;31m-----------------------------------------------------------------------\u001b[0m",
      "\u001b[0;31mImportError\u001b[0m                           Traceback (most recent call last)",
      "\u001b[0;32m<ipython-input-2-ff9fc77a6d8f>\u001b[0m in \u001b[0;36m<module>\u001b[0;34m()\u001b[0m\n\u001b[1;32m      4\u001b[0m \u001b[0;32mfrom\u001b[0m \u001b[0mscipy\u001b[0m \u001b[0;32mimport\u001b[0m \u001b[0mlinalg\u001b[0m\u001b[0;34m\u001b[0m\u001b[0m\n\u001b[1;32m      5\u001b[0m \u001b[0;34m\u001b[0m\u001b[0m\n\u001b[0;32m----> 6\u001b[0;31m \u001b[0;32mimport\u001b[0m \u001b[0mforward_kinematics\u001b[0m \u001b[0;32mas\u001b[0m \u001b[0mfk\u001b[0m\u001b[0;34m\u001b[0m\u001b[0m\n\u001b[0m\u001b[1;32m      7\u001b[0m \u001b[0;34m\u001b[0m\u001b[0m\n\u001b[1;32m      8\u001b[0m \u001b[0;32mdef\u001b[0m \u001b[0mcalc_inv_pos\u001b[0m\u001b[0;34m(\u001b[0m\u001b[0mangles\u001b[0m\u001b[0;34m,\u001b[0m \u001b[0mtarget_pos\u001b[0m\u001b[0;34m,\u001b[0m \u001b[0mtarget_ori\u001b[0m\u001b[0;34m,\u001b[0m \u001b[0mepsilon\u001b[0m\u001b[0;34m,\u001b[0m \u001b[0mright\u001b[0m\u001b[0;34m=\u001b[0m\u001b[0mTrue\u001b[0m\u001b[0;34m)\u001b[0m\u001b[0;34m:\u001b[0m\u001b[0;34m\u001b[0m\u001b[0m\n",
      "\u001b[0;31mImportError\u001b[0m: No module named forward_kinematics"
     ]
    }
   ],
   "source": [
    "import math\n",
    "import numpy as np\n",
    "import scipy as sp\n",
    "from scipy import linalg\n",
    "\n",
    "import forward_kinematics as fk\n",
    "\n",
    "def calc_inv_pos(angles, target_pos, target_ori, epsilon, right=True):\n",
    "    p  = np.array([0,0,0,1])\n",
    "    angs = np.array([a for a in angles])\n",
    "    sum_old = 100000\n",
    "    while True:\n",
    "        pos, ori, j = fk.calc_fk_and_jacob(angs, jacob=True, right=right)\n",
    "        J = _calc_invJ(j)\n",
    "        delta_pos = np.matrix((target_pos-pos)[0:3]).transpose()\n",
    "        v = (J * delta_pos).transpose()\n",
    "        angs = np.squeeze(np.asarray(v)) + angs\n",
    "        \n",
    "        sum = 0\n",
    "        for d in delta_pos:\n",
    "            sum = sum + math.fabs(d)\n",
    "        #sum = np.sum(delta_pos)\n",
    "        if sum < epsilon:\n",
    "            break\n",
    "        if sum > sum_old:\n",
    "            print '# set_position error : Distance can not converged.'\n",
    "            return None\n",
    "        sum_old = sum\n",
    "    return angs\n",
    "\n",
    "def _calc_invJ(J, epsilon = 0.01):\n",
    "    u, sigma, v = np.linalg.svd(J, full_matrices=0)\n",
    "    sigma_ = [1/s if s > epsilon else 0 for s in sigma]\n",
    "    rank = np.shape(J)[0]\n",
    "    return np.matrix(v.transpose()) * np.matrix(linalg.diagsvd(sigma_, rank, rank)) * np.matrix(u.transpose())"
   ]
  },
  {
   "cell_type": "markdown",
   "metadata": {},
   "source": [
    "### Rotation matrix를 Euler Angle로 변환."
   ]
  },
  {
   "cell_type": "code",
   "execution_count": null,
   "metadata": {},
   "outputs": [],
   "source": [
    "# euler_angles_from_rotation_matrix.py\n",
    "import numpy as NP\n",
    "import math\n",
    "\n",
    "def isclose(x, y, rtol=1.e-5, atol=1.e-8):\n",
    "    return abs(x-y) <= atol + rtol * abs(y)\n",
    "\n",
    "def rot2euler(R):\n",
    "    '''\n",
    "    From a paper by Gregory G. Slabaugh (undated),\n",
    "    \"Computing Euler angles from a rotation matrix\n",
    "    '''\n",
    "    phi = 0.0\n",
    "    if isclose(R[2,0],-1.0):\n",
    "        theta = math.pi/2.0\n",
    "        psi = math.atan2(R[0,1],R[0,2])\n",
    "    elif isclose(R[2,0],1.0):\n",
    "        theta = -math.pi/2.0\n",
    "        psi = math.atan2(-R[0,1],-R[0,2])\n",
    "    else:\n",
    "        theta = -math.asin(R[2,0])\n",
    "        cos_theta = math.cos(theta)\n",
    "        psi = math.atan2(R[2,1]/cos_theta, R[2,2]/cos_theta)\n",
    "        phi = math.atan2(R[1,0]/cos_theta, R[0,0]/cos_theta)\n",
    "    return psi, theta, phi\n"
   ]
  }
 ],
 "metadata": {
  "kernelspec": {
   "display_name": "Python 2",
   "language": "python",
   "name": "python2"
  },
  "language_info": {
   "codemirror_mode": {
    "name": "ipython",
    "version": 2
   },
   "file_extension": ".py",
   "mimetype": "text/x-python",
   "name": "python",
   "nbconvert_exporter": "python",
   "pygments_lexer": "ipython2",
   "version": "2.7.15"
  }
 },
 "nbformat": 4,
 "nbformat_minor": 2
}
